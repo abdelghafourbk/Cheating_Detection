{
 "cells": [
  {
   "cell_type": "code",
   "execution_count": 5,
   "metadata": {},
   "outputs": [],
   "source": [
    "from sklearn.cluster import KMeans\n"
   ]
  },
  {
   "cell_type": "code",
   "execution_count": 6,
   "metadata": {},
   "outputs": [],
   "source": [
    "data = [\n",
    "    [0.072240, 0.141414],\n",
    "    [0.055195, 0.088023],\n",
    "    [0.049513, 0.062049],\n",
    "    [0.068182, 0.113997],\n",
    "    [0.064123, 0.122655],\n",
    "    [0.060065, 0.059163],\n",
    "    [0.060065, 0.132756],\n",
    "    [0.054383, 0.103896],\n",
    "    [0.053571, 0.064935],\n",
    "    [0.060877, 0.108225],\n",
    "    [0.056006, 0.102453],\n",
    "    [0.056006, 0.062049],\n",
    "    [0.068182, 0.076479],\n",
    "    [0.070617, 0.080808],\n",
    "    [0.060877, 0.062049],\n",
    "    [0.047078, 0.103896],\n",
    "    [0.067370, 0.088023],\n",
    "    [0.034091, 0.066378],\n",
    "    [0.073864, 0.108225],\n",
    "    [0.078734, 0.124098],\n",
    "    [0.051948, 0.082251],\n",
    "    [0.068182, 0.108225],\n",
    "    [0.073052, 0.125541],\n",
    "    [0.048701, 0.077922],\n",
    "    [0.061688, 0.111111],\n",
    "    [0.076299, 0.121212],\n",
    "    [0.052760, 0.070707],\n",
    "    [0.064123, 0.128427],\n",
    "    [0.070617, 0.108225],\n",
    "    [0.046266, 0.066378],\n",
    "    [0.070617, 0.132756],\n",
    "    [0.068182, 0.115440],\n",
    "    [0.053571, 0.080808],\n",
    "    [0.054383, 0.099567],\n",
    "    [0.064935, 0.113997],\n",
    "    [0.043831, 0.069264],\n",
    "    [0.056818, 0.141414],\n",
    "    [0.065747, 0.119769],\n",
    "    [0.043019, 0.072150],\n",
    "    [0.049513, 0.112554],\n",
    "    [0.062500, 0.109668],\n",
    "    [0.059253, 0.064935],\n",
    "    [0.064123, 0.122655],\n",
    "    [0.073864, 0.113997],\n",
    "    [0.036526, 0.059163],\n",
    "    [0.072240, 0.113997],\n",
    "    [0.068182, 0.108225],\n",
    "    [0.044643, 0.070707],\n",
    "    [0.059253, 0.113997],\n",
    "    [0.070617, 0.105339],\n",
    "    [0.047078, 0.069264],\n",
    "    [0.068994, 0.101010],\n",
    "    [0.044643, 0.069264],\n",
    "    [0.068994, 0.106782],\n",
    "    [0.037338, 0.069264],\n",
    "    [0.060877, 0.106782],\n",
    "    [0.056818, 0.108225],\n",
    "    [0.027597, 0.064935],\n",
    "    [0.028409, 0.060606],\n",
    "    [0.032468, 0.060606],\n",
    "    [0.034903, 0.049062],\n",
    "    [0.024351, 0.046176],\n",
    "    [0.021916, 0.046176],\n",
    "    [0.021916, 0.041847],\n",
    "    [0.024351, 0.037518],\n",
    "    [0.023539, 0.043290],\n",
    "    [0.015422, 0.043290],\n",
    "    [0.022727, 0.043290],\n",
    "    [0.026786, 0.033189],\n",
    "    [0.020292, 0.040404],\n",
    "    [0.022727, 0.034632],\n",
    "    [0.024351, 0.033189],\n",
    "    [0.044643, 0.067821],\n",
    "    [0.054383, 0.089466],\n",
    "    [0.047078, 0.062049],\n",
    "    [0.113318, 0.167347]\n",
    "]"
   ]
  },
  {
   "cell_type": "code",
   "execution_count": 7,
   "metadata": {},
   "outputs": [
    {
     "data": {
      "text/plain": [
       "KMeans(n_clusters=6, random_state=42)"
      ]
     },
     "execution_count": 7,
     "metadata": {},
     "output_type": "execute_result"
    }
   ],
   "source": [
    "num_clusters = 6 \n",
    "\n",
    "kmeans = KMeans(n_clusters=num_clusters, random_state=42)\n",
    "kmeans.fit(data)"
   ]
  },
  {
   "cell_type": "code",
   "execution_count": 9,
   "metadata": {},
   "outputs": [
    {
     "name": "stdout",
     "output_type": "stream",
     "text": [
      "Calculated Anchors (width, height):\n",
      "[[0.05874588 0.0829725 ]\n",
      " [0.06781282 0.128427  ]\n",
      " [0.02360675 0.04100525]\n",
      " [0.113318   0.167347  ]\n",
      " [0.06348822 0.10860143]\n",
      " [0.04522262 0.065416  ]]\n"
     ]
    }
   ],
   "source": [
    "anchors = kmeans.cluster_centers_\n",
    "\n",
    "print(\"Calculated Anchors (width, height):\")\n",
    "print(anchors)"
   ]
  },
  {
   "cell_type": "code",
   "execution_count": 1,
   "metadata": {},
   "outputs": [
    {
     "name": "stdout",
     "output_type": "stream",
     "text": [
      "The height of the image is:  720\n",
      "The width of the image is:  1280\n"
     ]
    }
   ],
   "source": [
    "from PIL import Image \n",
    "  \n",
    "filepath = \"dataset/images/0.jpg\"\n",
    "img = Image.open(filepath) \n",
    "  \n",
    "width = img.width \n",
    "height = img.height \n",
    "print(\"The height of the image is: \", height) \n",
    "print(\"The width of the image is: \", width)"
   ]
  }
 ],
 "metadata": {
  "kernelspec": {
   "display_name": "nouwara",
   "language": "python",
   "name": "python3"
  },
  "language_info": {
   "codemirror_mode": {
    "name": "ipython",
    "version": 3
   },
   "file_extension": ".py",
   "mimetype": "text/x-python",
   "name": "python",
   "nbconvert_exporter": "python",
   "pygments_lexer": "ipython3",
   "version": "3.6.2"
  }
 },
 "nbformat": 4,
 "nbformat_minor": 2
}
